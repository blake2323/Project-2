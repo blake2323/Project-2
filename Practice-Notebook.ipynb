{
 "cells": [
  {
   "cell_type": "markdown",
   "metadata": {},
   "source": [
    "### Let us start our analysis by importing our dependencies"
   ]
  },
  {
   "cell_type": "code",
   "execution_count": null,
   "metadata": {},
   "outputs": [],
   "source": [
    "import pandas as pd\n",
    "import numpy as np\n",
    "# from config import api_key\n",
    "import requests\n",
    "import json\n",
    "# import scipy.stats as stats\n",
    "import matplotlib.pyplot as plt"
   ]
  },
  {
   "cell_type": "code",
   "execution_count": null,
   "metadata": {},
   "outputs": [],
   "source": [
    "# Create a dataframe of all award-winning beers since 2009\n",
    "\n",
    "csv_data = \"beer_winners.csv\"\n",
    "\n",
    "all = pd.read_csv(csv_data)\n",
    "all.columns = ['medal', 'beer_name','brewery',\n",
    "                       'city','county','state',\n",
    "                       'category','year','total_category_entries']\n",
    "all = all.sort_values('year', ascending=False)\n",
    "all.reset_index(inplace=True)\n",
    "all_winner_data = all.drop(columns=['index'],axis=1)\n",
    "print(\"\")\n",
    "print(\"This is a dataframe with every award-winning beer brewed in the United States since 2009.\")\n",
    "us_number = all_winner_data['medal'].count()\n",
    "print(f'There is information on {us_number} beers spread across 10 years.')\n",
    "all_winner_data.head()"
   ]
  },
  {
   "cell_type": "markdown",
   "metadata": {},
   "source": [
    "  "
   ]
  },
  {
   "cell_type": "code",
   "execution_count": null,
   "metadata": {},
   "outputs": [],
   "source": [
    "temp = cal_data[cal_data['county'] == 'San Diego']\n",
    "temp.reset_index(inplace=True)\n",
    "sd_number = temp['index'].count()\n",
    "print(f'There have been {sd_number} award-winning* beers in San Diego in the last decade.')\n",
    "sd_data = temp.drop(columns=['index'], axis=1)\n",
    "sd_data = sd_data.sort_values('year', ascending=False)\n",
    "sd_data.reset_index(inplace=True)\n",
    "sd_data = sd_data.drop(columns=['index'],axis=1)\n",
    "sd_data"
   ]
  },
  {
   "cell_type": "code",
   "execution_count": 35,
   "metadata": {},
   "outputs": [
    {
     "name": "stderr",
     "output_type": "stream",
     "text": [
      "C:\\Users\\jbpar\\Anaconda3\\envs\\PythonData\\lib\\site-packages\\ipykernel_launcher.py:3: FutureWarning: The signature of `Series.to_csv` was aligned to that of `DataFrame.to_csv`, and argument 'header' will change its default value from False to True: please pass an explicit value to suppress this warning.\n",
      "  This is separate from the ipykernel package so we can avoid doing imports until\n"
     ]
    }
   ],
   "source": [
    "sd_data.head()\n",
    "aaa = sd_data.groupby(['brewery', 'category']).size()\n",
    "aaa.to_csv(r'brewery_category_breakdown.csv', sep=',', encoding='utf-8')"
   ]
  },
  {
   "cell_type": "markdown",
   "metadata": {},
   "source": [
    "### Plot # 5 - San Diego vs. The World (or at least, the rest of the United States)"
   ]
  },
  {
   "cell_type": "code",
   "execution_count": null,
   "metadata": {},
   "outputs": [],
   "source": [
    "# Did San Diego show up as the best in the U.S. for 2018? \n",
    "\n",
    "total_entries_us = all_winner_data.groupby(['year'])['total_category_entries'].count()\n",
    "total_entries_cal = cal_data.groupby(['year'])['total_category_entries'].count()\n",
    "total_entries_sd = sd_data.groupby(['year'])['total_category_entries'].count()\n",
    "\n",
    "bweh = sd_data.loc[sd_data['year'] == 2018]\n",
    "sd_2018 = bweh[['medal', 'beer_name', 'brewery', 'category', 'total_category_entries']]\n",
    "\n",
    "medals_2018 = all_winner_data.loc[all_winner_data['year'] == 2018]\n",
    "all_2018 = medals_2018[['medal', 'beer_name', 'brewery', 'category', 'total_category_entries']]\n",
    "\n",
    "x = sd_2018['medal'].count()\n",
    "y = all_2018['medal'].count()\n",
    "print(\"\")\n",
    "print(f'San Diego, CA was awarded a total of {x} out of {y} medals.')\n",
    "\n",
    "labels = 'San Diego, CA','Every Other U.S. County'\n",
    "sizes = [x,y]\n",
    "explode = (0.3,0)\n",
    "plt.rcParams['font.size'] = 20\n",
    "plt.figure(figsize=(24,12))\n",
    "plt.pie(sizes, explode=explode, labels=labels, autopct='%1.1f%%',shadow=True, startangle=160)\n",
    "plt.title(\"Percent Breakdown of\\n\" + \"Medals Earned in 2018\\n\" + \"(By County)\")\n",
    "plt.show()"
   ]
  },
  {
   "cell_type": "markdown",
   "metadata": {},
   "source": [
    "### No [County](https://www.imdb.com/title/tt0477348/) for Old Men"
   ]
  },
  {
   "cell_type": "code",
   "execution_count": null,
   "metadata": {},
   "outputs": [],
   "source": [
    "total_entries_us = all_winner_data.groupby(['year'])['total_category_entries'].count()\n",
    "total_entries_cal = cal_data.groupby(['year'])['total_category_entries'].count()\n",
    "total_entries_sd = sd_data.groupby(['year'])['total_category_entries'].count()\n",
    "\n",
    "medal_dict = df[['year','county','medal']]\n",
    "medal_df = pd.DataFrame(medal_dict)\n",
    "medals_2018 = medal_df.loc[medal_df['year'] == 2018]\n",
    "medals_18 = medals_2018.drop(columns=['year'],axis=1)\n",
    "medal_grp = medals_18.groupby('county')['medal'].count()\n",
    "group = medal_grp.sort_values(ascending=False)\n",
    "df_x = pd.DataFrame(group).reset_index()\n",
    "df_x.head(15)"
   ]
  },
  {
   "cell_type": "markdown",
   "metadata": {},
   "source": [
    "### Plot # 6 - San Diego vs. The World (or at least, the rest of the United States): The Squeakquel"
   ]
  },
  {
   "cell_type": "code",
   "execution_count": null,
   "metadata": {},
   "outputs": [],
   "source": [
    "# Pulling out Top 10 from 2018\n",
    "top_10 = medal_grp.nlargest(10)\n",
    "top_10_df = pd.DataFrame(top_10).reset_index()\n",
    "\n",
    "everyone_else = df_x[(df_x[\"county\"] != 'San Diego') & (df_x[\"county\"] != 'Orange') & (df_x[\"county\"] != 'Los Angeles')\n",
    "                      & (df_x[\"county\"] != 'Cook') & (df_x[\"county\"] != 'Ashley') & (df_x[\"county\"] != 'Denver')\n",
    "                      & (df_x[\"county\"] != 'Lonoke') & (df_x[\"county\"] != 'Ottawa') & (df_x[\"county\"] != 'Jefferson')\n",
    "                      & (df_x[\"county\"] != 'Tehama')]\n",
    "\n",
    "# top = top_10_df['medal'].sum()\n",
    "t1 = top_10_df[top_10_df['county']==\"San Diego\"]['medal'].sum()\n",
    "t2 = top_10_df[top_10_df['county']==\"Orange\"]['medal'].sum()\n",
    "t3 = top_10_df[top_10_df['county']==\"Los Angeles\"]['medal'].sum()\n",
    "t4 = top_10_df[top_10_df['county']==\"Cook\"]['medal'].sum()\n",
    "t5 = top_10_df[top_10_df['county']==\"Ashley\"]['medal'].sum()\n",
    "t6 = top_10_df[top_10_df['county']==\"Denver\"]['medal'].sum()\n",
    "t7 = top_10_df[top_10_df['county']==\"Lonoke\"]['medal'].sum()\n",
    "t8 = top_10_df[top_10_df['county']==\"Ottawa\"]['medal'].sum()\n",
    "t9 = top_10_df[top_10_df['county']==\"Jefferson\"]['medal'].sum()\n",
    "t10 = top_10_df[top_10_df['county']==\"Tehama\"]['medal'].sum()\n",
    "all_others = everyone_else['medal'].sum()\n",
    "\n",
    "\n",
    "sizes = [t1,t2,t3,t4,t5,t6,t7,t8,t9,t10,all_others]\n",
    "labels = 'San Diego','Orange','Los Angeles','Cook','Ashley','Denver','Lonoke','Ottawa','Jefferson','Tehama','Rest of U.S. < 1.7%'\n",
    "explode = (0.3,0,0,0,0,0,0,0,0,0,0)\n",
    "print(\"\")\n",
    "plt.rcParams['font.size'] = 20\n",
    "plt.figure(figsize=(24,12))\n",
    "plt.pie(sizes, explode=explode, labels=labels, autopct='%1.0f%%',shadow=True, startangle=140)\n",
    "plt.title(\"Percent Breakdown of\\n\" + \"Medals Won in 2018\\n\" + \"(By County)\", size=20)\n",
    "plt.show()"
   ]
  },
  {
   "cell_type": "markdown",
   "metadata": {},
   "source": [
    "### Plot # 7 - Showcase of Medals Won From San Diego Breweries"
   ]
  },
  {
   "cell_type": "code",
   "execution_count": null,
   "metadata": {},
   "outputs": [],
   "source": [
    "total_entries_sd = sd_data.groupby(['year'])['total_category_entries'].count()\n",
    "# print(\"\")\n",
    "# print('total SD entries')\n",
    "# print(total_entries_sd)\n",
    "\n",
    "sd_data2 = sd_data.sort_values('year', ascending=True)\n",
    "year = sd_data2[\"year\"].unique()\n",
    "# print(year)\n",
    "\n",
    "# x = year\n",
    "y = total_entries_sd\n",
    "ticks = []\n",
    "for i in year:\n",
    "    ticks.append(i)\n",
    "print(\"\")\n",
    "plt.figure(figsize=(14,7))\n",
    "plt.bar(year, y, facecolor=\"red\", alpha=0.75, align=\"center\")\n",
    "plt.xticks(ticks, size=18)\n",
    "plt.yticks(size=18)\n",
    "plt.title(\"Medals Won by San Diego Breweries\", size=22)\n",
    "plt.xlabel(\"Years\", size=20)\n",
    "plt.ylabel(\"Number of Medals Won\", size=20)\n",
    "plt.show()"
   ]
  },
  {
   "cell_type": "markdown",
   "metadata": {},
   "source": [
    "### In San Diego County, how do the top 5 breweries compare to all other breweries?"
   ]
  },
  {
   "cell_type": "code",
   "execution_count": null,
   "metadata": {},
   "outputs": [],
   "source": [
    "aleq = pd.DataFrame(top_brew_sd)\n",
    "ale = aleq.reset_index()\n",
    "ale = ale.replace({\"Monkey Paw Brewing Co.\": \"Other\",\n",
    "                        \"Kilowatt Brewing\": \"Other\",\n",
    "                        \"Monkey Paw Brewing\": \"Other\",\n",
    "                        \"Mother Earth Brew Co.\": \"Other\",\n",
    "                        \"North Park Beer Co.\": \"Other\",\n",
    "                        \"OB Brewery\": \"Other\",\n",
    "                        \"Ocean Beach Brewery\": \"Other\",\n",
    "                        \"Oceanside Ale Works\": \"Other\",\n",
    "                        \"Pizza Port Bressi Ranch\": \"Other\",\n",
    "                        \"Port Brewing Co. / The Lost Abbey\": \"Other\",\n",
    "                        \"Pure Project\": \"Other\",\n",
    "                        \"Rock Bottom Brewery - La Jolla\": \"Other\",\n",
    "                        \"Saint Archer Brewing Co.\": \"Other\",\n",
    "                        \"South Park Brewing - CA\": \"Other\",\n",
    "                        \"SouthNorte Beer Co.\": \"Other\",\n",
    "                        \"The Beer Co.\": \"Other\",\n",
    "                        \"Karl Strauss Brewing Co. - Carlsbad\": \"Other\",\n",
    "                        \"Home Brewing Co.\": \"Other\",\n",
    "                        \"URBN St. Brewing Co.\": \"Other\",\n",
    "                        \"BNS Brewing & Distilling Co.\": \"Other\",\n",
    "                        \"Rip Current Brewery\": \"Other\",\n",
    "                        \"Karl Strauss Brewing Co. - La Jolla\": \"Other\",\n",
    "                        \"Karl Strauss Brewing Co.\": \"Other\",\n",
    "                        \"Societe Brewing Co.\": \"Other\",\n",
    "                        \"Ballast Point Brewing & Spirits - Scripps Ranch\": \"Other\",\n",
    "                        \"Stone Brewing World Bistro & Gardens - Liberty Station\": \"Other\",\n",
    "                        \"Bagby Beer Co.\": \"Other\",\n",
    "                        \"Breakwater Brewing Co.\": \"Other\",\n",
    "                        \"Second Chance Beer Co.\": \"Other\",\n",
    "                        \"Karl Strauss Brewing Co. - San Diego\": \"Other\",\n",
    "                        \"Benchmark Brewing Co.\": \"Other\",\n",
    "                        \"Duck Foot Brewing Co.\": \"Other\",\n",
    "                        \"Stone Brewing Co.\": \"Other\",\n",
    "                        \"Groundswell Brewing Co.\": \"Other\",\n",
    "                        \"Ballast Point Brewing Co.\": \"Other\",\n",
    "                        \"New English Brewing Co.\": \"Other\",\n",
    "                        \"Culture Brewing Co.\": \"Other\",\n",
    "                        \"Eppig Brewing\": \"Other\",\n",
    "                        \"Ballast Point Brewing Co\": \"Other\",\n",
    "                        \"Alpine Beer Co.\": \"Other\",\n",
    "                        \"Coronado Brewing Company Brewpub\": \"Other\",\n",
    "                        \"Brit Antrim Benefit Beer Pizza Port Ocean Beach\": \"Other\",\n",
    "                        \"Ballast Point Brewing Co. - Home Brew Mart\": \"Other\",\n",
    "                        \"Burgeon Beer Co.\": \"Other\",\n",
    "                  \"Green Flash Brewing Co.\": \"Other\",\n",
    "                  \"Port Brewing Co.\": \"Other\"})\n",
    "\n",
    "# Count of all SD breweries\n",
    "sd_brewery_count = ale['brewery'].count()\n",
    "others_count = sd_brewery_count - 5\n",
    "\n",
    "ale2 = ale.groupby(['brewery'])['medal'].sum()\n",
    "ale3 = pd.DataFrame(ale2)\n",
    "ale4 = ale3.reset_index()\n",
    "ale5 = ale4.sort_values('medal', ascending=False)\n",
    "ale6 = ale5.reset_index(drop=True)\n",
    "ale7 = pd.DataFrame(ale6)\n",
    "ale8 = ale7.reset_index()\n",
    "ale_df = ale8.sort_values('medal', ascending=False)\n",
    "\n",
    "ale_df"
   ]
  },
  {
   "cell_type": "markdown",
   "metadata": {},
   "source": [
    "### Plot # 8 - Elite [5]"
   ]
  },
  {
   "cell_type": "code",
   "execution_count": null,
   "metadata": {},
   "outputs": [],
   "source": [
    "labels = ale_df['brewery']\n",
    "medals = ale_df['medal']\n",
    "# explode = (0.1, 0.1, 0.1, 0, 0, 0, 0, 0, 0, 0, 0, 0)\n",
    "print(\"\")\n",
    "print(f'Compared to the other {others_count} breweries, the top 5 breweries won roughly 40% of all medals earned by San Diego County.')\n",
    "print(\"\")\n",
    "plt.figure(figsize=(24,12))\n",
    "plt.pie(medals, \n",
    "        #explode=explode, \n",
    "        labels=labels, autopct=\"%1.1f%%\", shadow=True, startangle=0)\n",
    "plt.title(\"Breakdown of\\n\" + \"All Medals Earned in\\n\" + \"San Diego County\", size=20)\n",
    "# plt.rcParams['font.size'] = 20\n",
    "plt.show()"
   ]
  },
  {
   "cell_type": "markdown",
   "metadata": {},
   "source": [
    "## Now, where exactly are these award-winning breweries in San Diego County?"
   ]
  },
  {
   "cell_type": "code",
   "execution_count": null,
   "metadata": {},
   "outputs": [],
   "source": []
  }
 ],
 "metadata": {
  "kernelspec": {
   "display_name": "Python [conda env:PythonData] *",
   "language": "python",
   "name": "conda-env-PythonData-py"
  },
  "language_info": {
   "codemirror_mode": {
    "name": "ipython",
    "version": 3
   },
   "file_extension": ".py",
   "mimetype": "text/x-python",
   "name": "python",
   "nbconvert_exporter": "python",
   "pygments_lexer": "ipython3",
   "version": "3.7.1"
  }
 },
 "nbformat": 4,
 "nbformat_minor": 2
}
